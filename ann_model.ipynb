{
 "cells": [
  {
   "cell_type": "code",
   "execution_count": 2,
   "metadata": {},
   "outputs": [],
   "source": [
    "import numpy as np\n",
    "import pandas as pd\n",
    "import tensorflow as tf"
   ]
  },
  {
   "cell_type": "code",
   "execution_count": 3,
   "metadata": {},
   "outputs": [
    {
     "data": {
      "text/plain": [
       "'2.4.1'"
      ]
     },
     "execution_count": 3,
     "metadata": {},
     "output_type": "execute_result"
    }
   ],
   "source": [
    "tf.__version__"
   ]
  },
  {
   "cell_type": "code",
   "execution_count": 4,
   "metadata": {},
   "outputs": [
    {
     "data": {
      "text/html": [
       "<div>\n",
       "<style scoped>\n",
       "    .dataframe tbody tr th:only-of-type {\n",
       "        vertical-align: middle;\n",
       "    }\n",
       "\n",
       "    .dataframe tbody tr th {\n",
       "        vertical-align: top;\n",
       "    }\n",
       "\n",
       "    .dataframe thead th {\n",
       "        text-align: right;\n",
       "    }\n",
       "</style>\n",
       "<table border=\"1\" class=\"dataframe\">\n",
       "  <thead>\n",
       "    <tr style=\"text-align: right;\">\n",
       "      <th></th>\n",
       "      <th>RowNumber</th>\n",
       "      <th>CustomerId</th>\n",
       "      <th>Surname</th>\n",
       "      <th>CreditScore</th>\n",
       "      <th>Geography</th>\n",
       "      <th>Gender</th>\n",
       "      <th>Age</th>\n",
       "      <th>Tenure</th>\n",
       "      <th>Balance</th>\n",
       "      <th>NumOfProducts</th>\n",
       "      <th>HasCrCard</th>\n",
       "      <th>IsActiveMember</th>\n",
       "      <th>EstimatedSalary</th>\n",
       "      <th>Exited</th>\n",
       "    </tr>\n",
       "  </thead>\n",
       "  <tbody>\n",
       "    <tr>\n",
       "      <th>0</th>\n",
       "      <td>1</td>\n",
       "      <td>15634602</td>\n",
       "      <td>Hargrave</td>\n",
       "      <td>619</td>\n",
       "      <td>France</td>\n",
       "      <td>Female</td>\n",
       "      <td>42</td>\n",
       "      <td>2</td>\n",
       "      <td>0.00</td>\n",
       "      <td>1</td>\n",
       "      <td>1</td>\n",
       "      <td>1</td>\n",
       "      <td>101348.88</td>\n",
       "      <td>1</td>\n",
       "    </tr>\n",
       "    <tr>\n",
       "      <th>1</th>\n",
       "      <td>2</td>\n",
       "      <td>15647311</td>\n",
       "      <td>Hill</td>\n",
       "      <td>608</td>\n",
       "      <td>Spain</td>\n",
       "      <td>Female</td>\n",
       "      <td>41</td>\n",
       "      <td>1</td>\n",
       "      <td>83807.86</td>\n",
       "      <td>1</td>\n",
       "      <td>0</td>\n",
       "      <td>1</td>\n",
       "      <td>112542.58</td>\n",
       "      <td>0</td>\n",
       "    </tr>\n",
       "    <tr>\n",
       "      <th>2</th>\n",
       "      <td>3</td>\n",
       "      <td>15619304</td>\n",
       "      <td>Onio</td>\n",
       "      <td>502</td>\n",
       "      <td>France</td>\n",
       "      <td>Female</td>\n",
       "      <td>42</td>\n",
       "      <td>8</td>\n",
       "      <td>159660.80</td>\n",
       "      <td>3</td>\n",
       "      <td>1</td>\n",
       "      <td>0</td>\n",
       "      <td>113931.57</td>\n",
       "      <td>1</td>\n",
       "    </tr>\n",
       "    <tr>\n",
       "      <th>3</th>\n",
       "      <td>4</td>\n",
       "      <td>15701354</td>\n",
       "      <td>Boni</td>\n",
       "      <td>699</td>\n",
       "      <td>France</td>\n",
       "      <td>Female</td>\n",
       "      <td>39</td>\n",
       "      <td>1</td>\n",
       "      <td>0.00</td>\n",
       "      <td>2</td>\n",
       "      <td>0</td>\n",
       "      <td>0</td>\n",
       "      <td>93826.63</td>\n",
       "      <td>0</td>\n",
       "    </tr>\n",
       "    <tr>\n",
       "      <th>4</th>\n",
       "      <td>5</td>\n",
       "      <td>15737888</td>\n",
       "      <td>Mitchell</td>\n",
       "      <td>850</td>\n",
       "      <td>Spain</td>\n",
       "      <td>Female</td>\n",
       "      <td>43</td>\n",
       "      <td>2</td>\n",
       "      <td>125510.82</td>\n",
       "      <td>1</td>\n",
       "      <td>1</td>\n",
       "      <td>1</td>\n",
       "      <td>79084.10</td>\n",
       "      <td>0</td>\n",
       "    </tr>\n",
       "    <tr>\n",
       "      <th>...</th>\n",
       "      <td>...</td>\n",
       "      <td>...</td>\n",
       "      <td>...</td>\n",
       "      <td>...</td>\n",
       "      <td>...</td>\n",
       "      <td>...</td>\n",
       "      <td>...</td>\n",
       "      <td>...</td>\n",
       "      <td>...</td>\n",
       "      <td>...</td>\n",
       "      <td>...</td>\n",
       "      <td>...</td>\n",
       "      <td>...</td>\n",
       "      <td>...</td>\n",
       "    </tr>\n",
       "    <tr>\n",
       "      <th>9995</th>\n",
       "      <td>9996</td>\n",
       "      <td>15606229</td>\n",
       "      <td>Obijiaku</td>\n",
       "      <td>771</td>\n",
       "      <td>France</td>\n",
       "      <td>Male</td>\n",
       "      <td>39</td>\n",
       "      <td>5</td>\n",
       "      <td>0.00</td>\n",
       "      <td>2</td>\n",
       "      <td>1</td>\n",
       "      <td>0</td>\n",
       "      <td>96270.64</td>\n",
       "      <td>0</td>\n",
       "    </tr>\n",
       "    <tr>\n",
       "      <th>9996</th>\n",
       "      <td>9997</td>\n",
       "      <td>15569892</td>\n",
       "      <td>Johnstone</td>\n",
       "      <td>516</td>\n",
       "      <td>France</td>\n",
       "      <td>Male</td>\n",
       "      <td>35</td>\n",
       "      <td>10</td>\n",
       "      <td>57369.61</td>\n",
       "      <td>1</td>\n",
       "      <td>1</td>\n",
       "      <td>1</td>\n",
       "      <td>101699.77</td>\n",
       "      <td>0</td>\n",
       "    </tr>\n",
       "    <tr>\n",
       "      <th>9997</th>\n",
       "      <td>9998</td>\n",
       "      <td>15584532</td>\n",
       "      <td>Liu</td>\n",
       "      <td>709</td>\n",
       "      <td>France</td>\n",
       "      <td>Female</td>\n",
       "      <td>36</td>\n",
       "      <td>7</td>\n",
       "      <td>0.00</td>\n",
       "      <td>1</td>\n",
       "      <td>0</td>\n",
       "      <td>1</td>\n",
       "      <td>42085.58</td>\n",
       "      <td>1</td>\n",
       "    </tr>\n",
       "    <tr>\n",
       "      <th>9998</th>\n",
       "      <td>9999</td>\n",
       "      <td>15682355</td>\n",
       "      <td>Sabbatini</td>\n",
       "      <td>772</td>\n",
       "      <td>Germany</td>\n",
       "      <td>Male</td>\n",
       "      <td>42</td>\n",
       "      <td>3</td>\n",
       "      <td>75075.31</td>\n",
       "      <td>2</td>\n",
       "      <td>1</td>\n",
       "      <td>0</td>\n",
       "      <td>92888.52</td>\n",
       "      <td>1</td>\n",
       "    </tr>\n",
       "    <tr>\n",
       "      <th>9999</th>\n",
       "      <td>10000</td>\n",
       "      <td>15628319</td>\n",
       "      <td>Walker</td>\n",
       "      <td>792</td>\n",
       "      <td>France</td>\n",
       "      <td>Female</td>\n",
       "      <td>28</td>\n",
       "      <td>4</td>\n",
       "      <td>130142.79</td>\n",
       "      <td>1</td>\n",
       "      <td>1</td>\n",
       "      <td>0</td>\n",
       "      <td>38190.78</td>\n",
       "      <td>0</td>\n",
       "    </tr>\n",
       "  </tbody>\n",
       "</table>\n",
       "<p>10000 rows × 14 columns</p>\n",
       "</div>"
      ],
      "text/plain": [
       "      RowNumber  CustomerId    Surname  CreditScore Geography  Gender  Age  \\\n",
       "0             1    15634602   Hargrave          619    France  Female   42   \n",
       "1             2    15647311       Hill          608     Spain  Female   41   \n",
       "2             3    15619304       Onio          502    France  Female   42   \n",
       "3             4    15701354       Boni          699    France  Female   39   \n",
       "4             5    15737888   Mitchell          850     Spain  Female   43   \n",
       "...         ...         ...        ...          ...       ...     ...  ...   \n",
       "9995       9996    15606229   Obijiaku          771    France    Male   39   \n",
       "9996       9997    15569892  Johnstone          516    France    Male   35   \n",
       "9997       9998    15584532        Liu          709    France  Female   36   \n",
       "9998       9999    15682355  Sabbatini          772   Germany    Male   42   \n",
       "9999      10000    15628319     Walker          792    France  Female   28   \n",
       "\n",
       "      Tenure    Balance  NumOfProducts  HasCrCard  IsActiveMember  \\\n",
       "0          2       0.00              1          1               1   \n",
       "1          1   83807.86              1          0               1   \n",
       "2          8  159660.80              3          1               0   \n",
       "3          1       0.00              2          0               0   \n",
       "4          2  125510.82              1          1               1   \n",
       "...      ...        ...            ...        ...             ...   \n",
       "9995       5       0.00              2          1               0   \n",
       "9996      10   57369.61              1          1               1   \n",
       "9997       7       0.00              1          0               1   \n",
       "9998       3   75075.31              2          1               0   \n",
       "9999       4  130142.79              1          1               0   \n",
       "\n",
       "      EstimatedSalary  Exited  \n",
       "0           101348.88       1  \n",
       "1           112542.58       0  \n",
       "2           113931.57       1  \n",
       "3            93826.63       0  \n",
       "4            79084.10       0  \n",
       "...               ...     ...  \n",
       "9995         96270.64       0  \n",
       "9996        101699.77       0  \n",
       "9997         42085.58       1  \n",
       "9998         92888.52       1  \n",
       "9999         38190.78       0  \n",
       "\n",
       "[10000 rows x 14 columns]"
      ]
     },
     "execution_count": 4,
     "metadata": {},
     "output_type": "execute_result"
    }
   ],
   "source": [
    "dataset = pd.read_excel('Churn-Modelling.xlsx')\n",
    "dataset"
   ]
  },
  {
   "cell_type": "code",
   "execution_count": 5,
   "metadata": {},
   "outputs": [
    {
     "data": {
      "text/plain": [
       "Index(['RowNumber', 'CustomerId', 'Surname', 'CreditScore', 'Geography',\n",
       "       'Gender', 'Age', 'Tenure', 'Balance', 'NumOfProducts', 'HasCrCard',\n",
       "       'IsActiveMember', 'EstimatedSalary', 'Exited'],\n",
       "      dtype='object')"
      ]
     },
     "execution_count": 5,
     "metadata": {},
     "output_type": "execute_result"
    }
   ],
   "source": [
    "dataset.columns"
   ]
  },
  {
   "cell_type": "code",
   "execution_count": 6,
   "metadata": {},
   "outputs": [
    {
     "data": {
      "text/plain": [
       "(10000, 14)"
      ]
     },
     "execution_count": 6,
     "metadata": {},
     "output_type": "execute_result"
    }
   ],
   "source": [
    "dataset.shape"
   ]
  },
  {
   "cell_type": "code",
   "execution_count": 7,
   "metadata": {},
   "outputs": [],
   "source": [
    "X = dataset.iloc[:, 3:-1].values\n",
    "y = dataset.iloc[:, -1].values"
   ]
  },
  {
   "cell_type": "code",
   "execution_count": 8,
   "metadata": {},
   "outputs": [
    {
     "name": "stdout",
     "output_type": "stream",
     "text": [
      "[[619 'France' 'Female' ... 1 1 101348.88]\n",
      " [608 'Spain' 'Female' ... 0 1 112542.58]\n",
      " [502 'France' 'Female' ... 1 0 113931.57]\n",
      " ...\n",
      " [709 'France' 'Female' ... 0 1 42085.58]\n",
      " [772 'Germany' 'Male' ... 1 0 92888.52]\n",
      " [792 'France' 'Female' ... 1 0 38190.78]]\n"
     ]
    }
   ],
   "source": [
    "print(X)"
   ]
  },
  {
   "cell_type": "code",
   "execution_count": 9,
   "metadata": {},
   "outputs": [
    {
     "name": "stdout",
     "output_type": "stream",
     "text": [
      "[1 0 1 ... 1 1 0]\n"
     ]
    }
   ],
   "source": [
    "print(y)"
   ]
  },
  {
   "cell_type": "code",
   "execution_count": 10,
   "metadata": {},
   "outputs": [],
   "source": [
    "from sklearn.preprocessing import LabelEncoder\n",
    "le = LabelEncoder()\n",
    "X[:, 2] = le.fit_transform(X[:, 2])"
   ]
  },
  {
   "cell_type": "code",
   "execution_count": 11,
   "metadata": {},
   "outputs": [
    {
     "name": "stdout",
     "output_type": "stream",
     "text": [
      "[[619 'France' 0 ... 1 1 101348.88]\n",
      " [608 'Spain' 0 ... 0 1 112542.58]\n",
      " [502 'France' 0 ... 1 0 113931.57]\n",
      " ...\n",
      " [709 'France' 0 ... 0 1 42085.58]\n",
      " [772 'Germany' 1 ... 1 0 92888.52]\n",
      " [792 'France' 0 ... 1 0 38190.78]]\n"
     ]
    }
   ],
   "source": [
    "print(X)"
   ]
  },
  {
   "cell_type": "code",
   "execution_count": 12,
   "metadata": {},
   "outputs": [],
   "source": [
    "from sklearn.compose import ColumnTransformer\n",
    "from sklearn.preprocessing import OneHotEncoder\n",
    "ct = ColumnTransformer(transformers=[('encoder', OneHotEncoder(), [1])], remainder='passthrough')\n",
    "X = np.array(ct.fit_transform(X))"
   ]
  },
  {
   "cell_type": "code",
   "execution_count": 13,
   "metadata": {},
   "outputs": [
    {
     "name": "stdout",
     "output_type": "stream",
     "text": [
      "[[1.0 0.0 0.0 ... 1 1 101348.88]\n",
      " [0.0 0.0 1.0 ... 0 1 112542.58]\n",
      " [1.0 0.0 0.0 ... 1 0 113931.57]\n",
      " ...\n",
      " [1.0 0.0 0.0 ... 0 1 42085.58]\n",
      " [0.0 1.0 0.0 ... 1 0 92888.52]\n",
      " [1.0 0.0 0.0 ... 1 0 38190.78]]\n"
     ]
    }
   ],
   "source": [
    "print(X)"
   ]
  },
  {
   "cell_type": "code",
   "execution_count": 14,
   "metadata": {},
   "outputs": [],
   "source": [
    "from sklearn.preprocessing import StandardScaler\n",
    "sc = StandardScaler()\n",
    "X = sc.fit_transform(X)"
   ]
  },
  {
   "cell_type": "code",
   "execution_count": 15,
   "metadata": {},
   "outputs": [
    {
     "data": {
      "text/plain": [
       "array([[ 0.99720391, -0.57873591, -0.57380915, ...,  0.64609167,\n",
       "         0.97024255,  0.02188649],\n",
       "       [-1.00280393, -0.57873591,  1.74273971, ..., -1.54776799,\n",
       "         0.97024255,  0.21653375],\n",
       "       [ 0.99720391, -0.57873591, -0.57380915, ...,  0.64609167,\n",
       "        -1.03067011,  0.2406869 ],\n",
       "       ...,\n",
       "       [ 0.99720391, -0.57873591, -0.57380915, ..., -1.54776799,\n",
       "         0.97024255, -1.00864308],\n",
       "       [-1.00280393,  1.72790383, -0.57380915, ...,  0.64609167,\n",
       "        -1.03067011, -0.12523071],\n",
       "       [ 0.99720391, -0.57873591, -0.57380915, ...,  0.64609167,\n",
       "        -1.03067011, -1.07636976]])"
      ]
     },
     "execution_count": 15,
     "metadata": {},
     "output_type": "execute_result"
    }
   ],
   "source": [
    "X"
   ]
  },
  {
   "cell_type": "code",
   "execution_count": 16,
   "metadata": {},
   "outputs": [],
   "source": [
    "from sklearn.model_selection import train_test_split\n",
    "X_train, X_test, y_train, y_test = train_test_split(X, y, test_size = 0.2, random_state = 0)"
   ]
  },
  {
   "cell_type": "code",
   "execution_count": 17,
   "metadata": {},
   "outputs": [],
   "source": [
    "ann = tf.keras.models.Sequential()"
   ]
  },
  {
   "cell_type": "code",
   "execution_count": 18,
   "metadata": {},
   "outputs": [],
   "source": [
    "ann.add(tf.keras.layers.Dense(units=6, activation='relu'))"
   ]
  },
  {
   "cell_type": "code",
   "execution_count": 19,
   "metadata": {},
   "outputs": [],
   "source": [
    "ann.add(tf.keras.layers.Dense(units=6, activation='relu'))"
   ]
  },
  {
   "cell_type": "code",
   "execution_count": 20,
   "metadata": {},
   "outputs": [],
   "source": [
    "ann.add(tf.keras.layers.Dense(units=1, activation='sigmoid'))"
   ]
  },
  {
   "cell_type": "code",
   "execution_count": 21,
   "metadata": {},
   "outputs": [],
   "source": [
    "ann.compile(optimizer = 'adam', loss = 'binary_crossentropy', metrics = ['accuracy'])"
   ]
  },
  {
   "cell_type": "code",
   "execution_count": 22,
   "metadata": {},
   "outputs": [
    {
     "name": "stdout",
     "output_type": "stream",
     "text": [
      "Epoch 1/100\n",
      "250/250 [==============================] - 0s 468us/step - loss: 0.6616 - accuracy: 0.6124\n",
      "Epoch 2/100\n",
      "250/250 [==============================] - 0s 445us/step - loss: 0.4874 - accuracy: 0.7976\n",
      "Epoch 3/100\n",
      "250/250 [==============================] - 0s 445us/step - loss: 0.4537 - accuracy: 0.7985\n",
      "Epoch 4/100\n",
      "250/250 [==============================] - 0s 469us/step - loss: 0.4346 - accuracy: 0.8045\n",
      "Epoch 5/100\n",
      "250/250 [==============================] - 0s 443us/step - loss: 0.4112 - accuracy: 0.8218\n",
      "Epoch 6/100\n",
      "250/250 [==============================] - 0s 453us/step - loss: 0.4114 - accuracy: 0.8279\n",
      "Epoch 7/100\n",
      "250/250 [==============================] - 0s 473us/step - loss: 0.4109 - accuracy: 0.8207\n",
      "Epoch 8/100\n",
      "250/250 [==============================] - 0s 465us/step - loss: 0.3970 - accuracy: 0.8298\n",
      "Epoch 9/100\n",
      "250/250 [==============================] - 0s 473us/step - loss: 0.3853 - accuracy: 0.8352\n",
      "Epoch 10/100\n",
      "250/250 [==============================] - 0s 453us/step - loss: 0.3780 - accuracy: 0.8399\n",
      "Epoch 11/100\n",
      "250/250 [==============================] - 0s 465us/step - loss: 0.3592 - accuracy: 0.8473\n",
      "Epoch 12/100\n",
      "250/250 [==============================] - 0s 457us/step - loss: 0.3719 - accuracy: 0.8422\n",
      "Epoch 13/100\n",
      "250/250 [==============================] - 0s 442us/step - loss: 0.3620 - accuracy: 0.8501\n",
      "Epoch 14/100\n",
      "250/250 [==============================] - 0s 441us/step - loss: 0.3534 - accuracy: 0.8556\n",
      "Epoch 15/100\n",
      "250/250 [==============================] - 0s 453us/step - loss: 0.3463 - accuracy: 0.8582\n",
      "Epoch 16/100\n",
      "250/250 [==============================] - 0s 441us/step - loss: 0.3359 - accuracy: 0.8607\n",
      "Epoch 17/100\n",
      "250/250 [==============================] - 0s 441us/step - loss: 0.3374 - accuracy: 0.8586\n",
      "Epoch 18/100\n",
      "250/250 [==============================] - 0s 437us/step - loss: 0.3421 - accuracy: 0.8558\n",
      "Epoch 19/100\n",
      "250/250 [==============================] - 0s 449us/step - loss: 0.3431 - accuracy: 0.8547\n",
      "Epoch 20/100\n",
      "250/250 [==============================] - 0s 457us/step - loss: 0.3407 - accuracy: 0.8603\n",
      "Epoch 21/100\n",
      "250/250 [==============================] - 0s 481us/step - loss: 0.3486 - accuracy: 0.8547\n",
      "Epoch 22/100\n",
      "250/250 [==============================] - 0s 457us/step - loss: 0.3327 - accuracy: 0.8653\n",
      "Epoch 23/100\n",
      "250/250 [==============================] - 0s 465us/step - loss: 0.3417 - accuracy: 0.8589\n",
      "Epoch 24/100\n",
      "250/250 [==============================] - 0s 457us/step - loss: 0.3325 - accuracy: 0.8658\n",
      "Epoch 25/100\n",
      "250/250 [==============================] - 0s 449us/step - loss: 0.3381 - accuracy: 0.8608\n",
      "Epoch 26/100\n",
      "250/250 [==============================] - 0s 457us/step - loss: 0.3428 - accuracy: 0.8574\n",
      "Epoch 27/100\n",
      "250/250 [==============================] - 0s 469us/step - loss: 0.3514 - accuracy: 0.8546\n",
      "Epoch 28/100\n",
      "250/250 [==============================] - 0s 461us/step - loss: 0.3368 - accuracy: 0.8619\n",
      "Epoch 29/100\n",
      "250/250 [==============================] - 0s 461us/step - loss: 0.3329 - accuracy: 0.8665\n",
      "Epoch 30/100\n",
      "250/250 [==============================] - 0s 465us/step - loss: 0.3419 - accuracy: 0.8587\n",
      "Epoch 31/100\n",
      "250/250 [==============================] - 0s 457us/step - loss: 0.3322 - accuracy: 0.8649\n",
      "Epoch 32/100\n",
      "250/250 [==============================] - 0s 465us/step - loss: 0.3466 - accuracy: 0.8577\n",
      "Epoch 33/100\n",
      "250/250 [==============================] - 0s 453us/step - loss: 0.3377 - accuracy: 0.8605\n",
      "Epoch 34/100\n",
      "250/250 [==============================] - 0s 473us/step - loss: 0.3288 - accuracy: 0.8721\n",
      "Epoch 35/100\n",
      "250/250 [==============================] - 0s 465us/step - loss: 0.3296 - accuracy: 0.8647\n",
      "Epoch 36/100\n",
      "250/250 [==============================] - 0s 461us/step - loss: 0.3335 - accuracy: 0.8626\n",
      "Epoch 37/100\n",
      "250/250 [==============================] - 0s 465us/step - loss: 0.3437 - accuracy: 0.8590\n",
      "Epoch 38/100\n",
      "250/250 [==============================] - 0s 457us/step - loss: 0.3403 - accuracy: 0.8600\n",
      "Epoch 39/100\n",
      "250/250 [==============================] - 0s 445us/step - loss: 0.3246 - accuracy: 0.8677\n",
      "Epoch 40/100\n",
      "250/250 [==============================] - 0s 473us/step - loss: 0.3399 - accuracy: 0.8619\n",
      "Epoch 41/100\n",
      "250/250 [==============================] - 0s 461us/step - loss: 0.3310 - accuracy: 0.8673\n",
      "Epoch 42/100\n",
      "250/250 [==============================] - 0s 457us/step - loss: 0.3326 - accuracy: 0.8640\n",
      "Epoch 43/100\n",
      "250/250 [==============================] - 0s 445us/step - loss: 0.3315 - accuracy: 0.8662\n",
      "Epoch 44/100\n",
      "250/250 [==============================] - 0s 469us/step - loss: 0.3396 - accuracy: 0.8632\n",
      "Epoch 45/100\n",
      "250/250 [==============================] - 0s 465us/step - loss: 0.3412 - accuracy: 0.8591\n",
      "Epoch 46/100\n",
      "250/250 [==============================] - 0s 453us/step - loss: 0.3285 - accuracy: 0.8625\n",
      "Epoch 47/100\n",
      "250/250 [==============================] - 0s 437us/step - loss: 0.3458 - accuracy: 0.8559\n",
      "Epoch 48/100\n",
      "250/250 [==============================] - 0s 441us/step - loss: 0.3308 - accuracy: 0.8598\n",
      "Epoch 49/100\n",
      "250/250 [==============================] - 0s 445us/step - loss: 0.3396 - accuracy: 0.8591\n",
      "Epoch 50/100\n",
      "250/250 [==============================] - 0s 441us/step - loss: 0.3435 - accuracy: 0.8556\n",
      "Epoch 51/100\n",
      "250/250 [==============================] - 0s 441us/step - loss: 0.3370 - accuracy: 0.8589\n",
      "Epoch 52/100\n",
      "250/250 [==============================] - 0s 441us/step - loss: 0.3322 - accuracy: 0.8590\n",
      "Epoch 53/100\n",
      "250/250 [==============================] - 0s 445us/step - loss: 0.3331 - accuracy: 0.8646\n",
      "Epoch 54/100\n",
      "250/250 [==============================] - 0s 445us/step - loss: 0.3273 - accuracy: 0.8652\n",
      "Epoch 55/100\n",
      "250/250 [==============================] - 0s 437us/step - loss: 0.3326 - accuracy: 0.8640\n",
      "Epoch 56/100\n",
      "250/250 [==============================] - 0s 441us/step - loss: 0.3427 - accuracy: 0.8564\n",
      "Epoch 57/100\n",
      "250/250 [==============================] - 0s 441us/step - loss: 0.3353 - accuracy: 0.8606\n",
      "Epoch 58/100\n",
      "250/250 [==============================] - 0s 461us/step - loss: 0.3497 - accuracy: 0.8538\n",
      "Epoch 59/100\n",
      "250/250 [==============================] - 0s 453us/step - loss: 0.3327 - accuracy: 0.8654\n",
      "Epoch 60/100\n",
      "250/250 [==============================] - 0s 453us/step - loss: 0.3325 - accuracy: 0.8596\n",
      "Epoch 61/100\n",
      "250/250 [==============================] - 0s 453us/step - loss: 0.3380 - accuracy: 0.8593\n",
      "Epoch 62/100\n",
      "250/250 [==============================] - 0s 461us/step - loss: 0.3389 - accuracy: 0.8597\n",
      "Epoch 63/100\n",
      "250/250 [==============================] - 0s 445us/step - loss: 0.3305 - accuracy: 0.8627\n",
      "Epoch 64/100\n",
      "250/250 [==============================] - 0s 445us/step - loss: 0.3202 - accuracy: 0.8710\n",
      "Epoch 65/100\n",
      "250/250 [==============================] - 0s 457us/step - loss: 0.3225 - accuracy: 0.8661\n",
      "Epoch 66/100\n",
      "250/250 [==============================] - 0s 453us/step - loss: 0.3361 - accuracy: 0.8609\n",
      "Epoch 67/100\n",
      "250/250 [==============================] - 0s 453us/step - loss: 0.3324 - accuracy: 0.8620\n",
      "Epoch 68/100\n",
      "250/250 [==============================] - 0s 457us/step - loss: 0.3330 - accuracy: 0.8622\n",
      "Epoch 69/100\n",
      "250/250 [==============================] - 0s 453us/step - loss: 0.3376 - accuracy: 0.8642\n",
      "Epoch 70/100\n",
      "250/250 [==============================] - 0s 453us/step - loss: 0.3407 - accuracy: 0.8539\n",
      "Epoch 71/100\n",
      "250/250 [==============================] - 0s 457us/step - loss: 0.3285 - accuracy: 0.8667\n",
      "Epoch 72/100\n",
      "250/250 [==============================] - 0s 453us/step - loss: 0.3248 - accuracy: 0.8630\n",
      "Epoch 73/100\n",
      "250/250 [==============================] - 0s 453us/step - loss: 0.3303 - accuracy: 0.8627\n",
      "Epoch 74/100\n",
      "250/250 [==============================] - 0s 449us/step - loss: 0.3358 - accuracy: 0.8604\n",
      "Epoch 75/100\n",
      "250/250 [==============================] - 0s 453us/step - loss: 0.3274 - accuracy: 0.8631\n",
      "Epoch 76/100\n",
      "250/250 [==============================] - 0s 453us/step - loss: 0.3256 - accuracy: 0.8662\n",
      "Epoch 77/100\n",
      "250/250 [==============================] - 0s 457us/step - loss: 0.3236 - accuracy: 0.8653\n",
      "Epoch 78/100\n",
      "250/250 [==============================] - 0s 453us/step - loss: 0.3187 - accuracy: 0.8678\n",
      "Epoch 79/100\n"
     ]
    },
    {
     "name": "stdout",
     "output_type": "stream",
     "text": [
      "250/250 [==============================] - 0s 449us/step - loss: 0.3371 - accuracy: 0.8577\n",
      "Epoch 80/100\n",
      "250/250 [==============================] - 0s 457us/step - loss: 0.3324 - accuracy: 0.8604\n",
      "Epoch 81/100\n",
      "250/250 [==============================] - 0s 445us/step - loss: 0.3329 - accuracy: 0.8613\n",
      "Epoch 82/100\n",
      "250/250 [==============================] - 0s 449us/step - loss: 0.3195 - accuracy: 0.8640\n",
      "Epoch 83/100\n",
      "250/250 [==============================] - 0s 445us/step - loss: 0.3287 - accuracy: 0.8667\n",
      "Epoch 84/100\n",
      "250/250 [==============================] - 0s 453us/step - loss: 0.3260 - accuracy: 0.8628\n",
      "Epoch 85/100\n",
      "250/250 [==============================] - 0s 449us/step - loss: 0.3333 - accuracy: 0.8633\n",
      "Epoch 86/100\n",
      "250/250 [==============================] - 0s 453us/step - loss: 0.3313 - accuracy: 0.8638\n",
      "Epoch 87/100\n",
      "250/250 [==============================] - 0s 441us/step - loss: 0.3335 - accuracy: 0.8601\n",
      "Epoch 88/100\n",
      "250/250 [==============================] - 0s 453us/step - loss: 0.3350 - accuracy: 0.8612\n",
      "Epoch 89/100\n",
      "250/250 [==============================] - 0s 449us/step - loss: 0.3320 - accuracy: 0.8603\n",
      "Epoch 90/100\n",
      "250/250 [==============================] - 0s 457us/step - loss: 0.3317 - accuracy: 0.8636\n",
      "Epoch 91/100\n",
      "250/250 [==============================] - 0s 461us/step - loss: 0.3271 - accuracy: 0.8644\n",
      "Epoch 92/100\n",
      "250/250 [==============================] - 0s 469us/step - loss: 0.3197 - accuracy: 0.8703\n",
      "Epoch 93/100\n",
      "250/250 [==============================] - 0s 465us/step - loss: 0.3307 - accuracy: 0.8641\n",
      "Epoch 94/100\n",
      "250/250 [==============================] - 0s 441us/step - loss: 0.3246 - accuracy: 0.8654\n",
      "Epoch 95/100\n",
      "250/250 [==============================] - 0s 441us/step - loss: 0.3232 - accuracy: 0.8668\n",
      "Epoch 96/100\n",
      "250/250 [==============================] - 0s 457us/step - loss: 0.3311 - accuracy: 0.8648\n",
      "Epoch 97/100\n",
      "250/250 [==============================] - 0s 441us/step - loss: 0.3245 - accuracy: 0.8659\n",
      "Epoch 98/100\n",
      "250/250 [==============================] - 0s 441us/step - loss: 0.3422 - accuracy: 0.8566\n",
      "Epoch 99/100\n",
      "250/250 [==============================] - 0s 465us/step - loss: 0.3306 - accuracy: 0.8706\n",
      "Epoch 100/100\n",
      "250/250 [==============================] - 0s 469us/step - loss: 0.3276 - accuracy: 0.8637\n"
     ]
    },
    {
     "data": {
      "text/plain": [
       "<tensorflow.python.keras.callbacks.History at 0x21bab6e5a00>"
      ]
     },
     "execution_count": 22,
     "metadata": {},
     "output_type": "execute_result"
    }
   ],
   "source": [
    "ann.fit(X_train, y_train, batch_size = 32, epochs = 100)"
   ]
  },
  {
   "cell_type": "code",
   "execution_count": 23,
   "metadata": {},
   "outputs": [
    {
     "data": {
      "text/plain": [
       "array([[0.3522582 ],\n",
       "       [0.3478589 ],\n",
       "       [0.17053291],\n",
       "       ...,\n",
       "       [0.20157096],\n",
       "       [0.32336617],\n",
       "       [0.23779115]], dtype=float32)"
      ]
     },
     "execution_count": 23,
     "metadata": {},
     "output_type": "execute_result"
    }
   ],
   "source": [
    "y_pred = ann.predict(X_test)\n",
    "y_pred"
   ]
  },
  {
   "cell_type": "code",
   "execution_count": 24,
   "metadata": {},
   "outputs": [
    {
     "data": {
      "text/plain": [
       "array([[False],\n",
       "       [False],\n",
       "       [False],\n",
       "       ...,\n",
       "       [False],\n",
       "       [False],\n",
       "       [False]])"
      ]
     },
     "execution_count": 24,
     "metadata": {},
     "output_type": "execute_result"
    }
   ],
   "source": [
    "y_pred = (y_pred > 0.5)\n",
    "y_pred"
   ]
  },
  {
   "cell_type": "code",
   "execution_count": 25,
   "metadata": {},
   "outputs": [
    {
     "name": "stdout",
     "output_type": "stream",
     "text": [
      "[[0 0]\n",
      " [0 1]\n",
      " [0 0]\n",
      " ...\n",
      " [0 0]\n",
      " [0 0]\n",
      " [0 0]]\n"
     ]
    }
   ],
   "source": [
    "print(np.concatenate((y_pred.reshape(len(y_pred),1), y_test.reshape(len(y_test),1)),1))"
   ]
  },
  {
   "cell_type": "code",
   "execution_count": 26,
   "metadata": {},
   "outputs": [
    {
     "name": "stdout",
     "output_type": "stream",
     "text": [
      "[[1501   94]\n",
      " [ 173  232]]\n"
     ]
    }
   ],
   "source": [
    "from sklearn.metrics import confusion_matrix\n",
    "cm = confusion_matrix(y_test, y_pred)\n",
    "print(cm)"
   ]
  },
  {
   "cell_type": "code",
   "execution_count": 27,
   "metadata": {},
   "outputs": [
    {
     "data": {
      "text/plain": [
       "0.867"
      ]
     },
     "execution_count": 27,
     "metadata": {},
     "output_type": "execute_result"
    }
   ],
   "source": [
    "accuracy  =  (1534 + 200)/(1534 + 61+ 205 + 200)\n",
    "accuracy"
   ]
  },
  {
   "cell_type": "code",
   "execution_count": 32,
   "metadata": {},
   "outputs": [
    {
     "data": {
      "text/plain": [
       "0.8665"
      ]
     },
     "execution_count": 32,
     "metadata": {},
     "output_type": "execute_result"
    }
   ],
   "source": [
    "from sklearn.metrics import accuracy_score\n",
    "accuracy_score(y_test,y_pred)"
   ]
  },
  {
   "cell_type": "code",
   "execution_count": null,
   "metadata": {},
   "outputs": [],
   "source": []
  },
  {
   "cell_type": "code",
   "execution_count": null,
   "metadata": {},
   "outputs": [],
   "source": []
  }
 ],
 "metadata": {
  "kernelspec": {
   "display_name": "Python 3",
   "language": "python",
   "name": "python3"
  },
  "language_info": {
   "codemirror_mode": {
    "name": "ipython",
    "version": 3
   },
   "file_extension": ".py",
   "mimetype": "text/x-python",
   "name": "python",
   "nbconvert_exporter": "python",
   "pygments_lexer": "ipython3",
   "version": "3.8.5"
  }
 },
 "nbformat": 4,
 "nbformat_minor": 2
}
